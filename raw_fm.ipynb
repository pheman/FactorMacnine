{
 "cells": [
  {
   "cell_type": "code",
   "execution_count": null,
   "metadata": {
    "code_folding": [
     0
    ],
    "scrolled": true
   },
   "outputs": [],
   "source": [
    "# raw linear regression\n",
    "nepoh = 1000\n",
    "lr = 0.001\n",
    "for i in range(nepoh):\n",
    "    z = (x.mm(w) + b - y)**2\n",
    "    loss = z.sum()\n",
    "    print(loss)\n",
    "    loss.backward()\n",
    "    \n",
    "    w.data = w.data -  w.grad.data*lr\n",
    "    b.data = b.data -  b.grad.data*lr\n",
    "    w.grad.data.zero_()\n",
    "    b.grad.data.zero_()"
   ]
  },
  {
   "cell_type": "code",
   "execution_count": 1,
   "metadata": {
    "code_folding": []
   },
   "outputs": [
    {
     "name": "stderr",
     "output_type": "stream",
     "text": [
      "/home/zhangruibin/anaconda3/lib/python3.7/site-packages/sklearn/ensemble/weight_boosting.py:29: DeprecationWarning: numpy.core.umath_tests is an internal NumPy module and should not be imported. It will be removed in a future NumPy release.\n",
      "  from numpy.core.umath_tests import inner1d\n"
     ]
    },
    {
     "name": "stdout",
     "output_type": "stream",
     "text": [
      "5000\n"
     ]
    }
   ],
   "source": [
    "# Factor Machine Data\n",
    "import torch,pdb\n",
    "import numpy as np\n",
    "import matplotlib.pyplot as plt\n",
    "from sklearn.datasets import load_iris,fetch_kddcup99,make_classification\n",
    "from sklearn.model_selection import train_test_split,KFold\n",
    "from sklearn.preprocessing import StandardScaler,LabelEncoder,LabelBinarizer,Binarizer\n",
    "from sklearn.linear_model import LogisticRegression,stochastic_gradient\n",
    "from sklearn.metrics import classification_report\n",
    "from sklearn.multioutput import MultiOutputClassifier\n",
    "from sklearn.ensemble import RandomForestClassifier,ExtraTreesClassifier \n",
    "from sklearn.feature_extraction import DictVectorizer\n",
    "from sklearn.pipeline import Pipeline\n",
    "import xgboost as xgt\n",
    "\n",
    "xdata,ydata = make_classification(n_samples=10000, n_features=5, n_classes=2, random_state=None)\n",
    "\n",
    "coef  = np.array([0.0,0.0,0.0, 0.0,0.0])\n",
    "ydata = np.matmul(xdata,coef) + xdata[:,1]*xdata[:,2] + xdata[:,2] *xdata[:,3] + xdata[:,1] *xdata[:,3]\n",
    "ydata = (ydata > np.median(ydata)).astype(np.int)\n",
    "print(ydata.sum())"
   ]
  },
  {
   "cell_type": "code",
   "execution_count": 2,
   "metadata": {
    "code_folding": [
     0
    ]
   },
   "outputs": [],
   "source": [
    "# DataSet\n",
    "import torch.utils.data as data\n",
    "class MyDataset(data.Dataset):\n",
    "    def __init__(self,  data, labels):\n",
    "        self.Xdata   = data\n",
    "        self.labels = labels\n",
    "\n",
    "    def __getitem__(self, index):#返回的是tensor\n",
    "        item, target = self.Xdata[index], self.labels[index]\n",
    "        return item, target\n",
    "\n",
    "    def __len__(self):\n",
    "        return self.Xdata.shape[0]"
   ]
  },
  {
   "cell_type": "code",
   "execution_count": 3,
   "metadata": {
    "code_folding": [
     0,
     60
    ]
   },
   "outputs": [],
   "source": [
    "# plot func\n",
    "import numpy as np\n",
    "from scipy import interp\n",
    "import matplotlib.pyplot as plt\n",
    "from sklearn import metrics\n",
    "from sklearn.metrics import confusion_matrix\n",
    "from sklearn.utils.multiclass import unique_labels\n",
    "np.set_printoptions(precision=2)\n",
    "def plot_confusion_matrix(y_true, y_pred, classes,\n",
    "                          normalize=False,\n",
    "                          title=None,\n",
    "                          cmap=plt.cm.Blues):\n",
    "    \"\"\"\n",
    "    This function prints and plots the confusion matrix.\n",
    "    Normalization can be applied by setting `normalize=True`.\n",
    "    \"\"\"\n",
    "    if not title:\n",
    "        if normalize:\n",
    "            title = 'Normalized confusion matrix'\n",
    "        else:\n",
    "            title = 'Confusion matrix, without normalization'\n",
    "\n",
    "    # Compute confusion matrix\n",
    "    cm = confusion_matrix(y_true, y_pred)\n",
    "    # Only use the labels that appear in the data\n",
    "    classes = classes[unique_labels(y_true, y_pred)]\n",
    "    if normalize:\n",
    "        cm = cm.astype('float') / cm.sum(axis=1)[:, np.newaxis]\n",
    "        print(\"Normalized confusion matrix\")\n",
    "    else:\n",
    "        print('Confusion matrix, without normalization')\n",
    "\n",
    "    #print(cm)\n",
    "    plt.figure()\n",
    "    fig, ax = plt.subplots()\n",
    "    im = ax.imshow(cm, interpolation='nearest', cmap=cmap)\n",
    "    ax.figure.colorbar(im, ax=ax)\n",
    "    # We want to show all ticks...\n",
    "    ax.set(xticks=np.arange(cm.shape[1]),\n",
    "           yticks=np.arange(cm.shape[0]),\n",
    "           # ... and label them with the respective list entries\n",
    "           xticklabels=classes, yticklabels=classes,\n",
    "           title=title,\n",
    "           ylabel='True label',\n",
    "           xlabel='Predicted label')\n",
    "\n",
    "    # Rotate the tick labels and set their alignment.\n",
    "    plt.setp(ax.get_xticklabels(), rotation=45, ha=\"right\",\n",
    "             rotation_mode=\"anchor\")\n",
    "\n",
    "    # Loop over data dimensions and create text annotations.\n",
    "    fmt = '.2f' if normalize else 'd'\n",
    "    thresh = cm.max() / 2.\n",
    "    for i in range(cm.shape[0]):\n",
    "        for j in range(cm.shape[1]):\n",
    "            ax.text(j, i, format(cm[i, j], fmt),\n",
    "                    ha=\"center\", va=\"center\",\n",
    "                    color=\"white\" if cm[i, j] > thresh else \"black\")\n",
    "    fig.tight_layout()\n",
    "    return ax\n",
    "def plot_roc(ytrue, yprob):\n",
    "    mean_fpr = np.linspace(0, 1, 100)\n",
    "\n",
    "    i = 0\n",
    "\n",
    "    # Compute ROC curve and area the curve\n",
    "    fpr, tpr, thresholds = metrics.roc_curve(ytrue, yprob[:, 1])\n",
    "\n",
    "\n",
    "    roc_auc = metrics.auc(fpr, tpr)\n",
    "    plt.figure()\n",
    "    plt.plot(fpr, tpr, lw=2, alpha=0.3,color='r',\n",
    "             label='ROC fold %d (AUC = %0.2f)' % (i, roc_auc))\n",
    "\n",
    "    plt.plot([0, 1], [0, 1], linestyle='--', lw=2, color='b',\n",
    "             label='Chance', alpha=.8)\n",
    "\n",
    "    \n",
    "\n",
    "    plt.xlim([-0.05, 1.05])\n",
    "    plt.ylim([-0.05, 1.05])\n",
    "    plt.xlabel('False Positive Rate')\n",
    "    plt.ylabel('True Positive Rate')\n",
    "    plt.title('Receiver operating characteristic example')\n",
    "    plt.legend(loc=\"lower right\")\n",
    "    plt.show()\n"
   ]
  },
  {
   "cell_type": "code",
   "execution_count": 4,
   "metadata": {
    "code_folding": [
     5,
     64,
     69,
     135
    ]
   },
   "outputs": [],
   "source": [
    "# FM Model\n",
    "from torch.nn.functional import logsigmoid\n",
    "from torch import sigmoid,log,diag\n",
    "from sklearn.base import BaseEstimator,ClassifierMixin\n",
    "import numpy as np\n",
    "class TorsorLogisticRegression():\n",
    "    \"\"\"\n",
    "     Logistic Regression classifier implemented by Pytorch\n",
    "    \n",
    "    \"\"\"\n",
    "    def __init__(self, penalty='l2', C=1.0, lr=0.01, epoch=10000, stop_thod=0.0001, verbose=False):\n",
    "        self.C = C\n",
    "        self.penalty = penalty\n",
    "        self.epoch = epoch\n",
    "        self.stop_thod = stop_thod\n",
    "        self.lr = lr\n",
    "        self.verbose = verbose\n",
    "    def fit(self, X, y):\n",
    "        Xt = torch.from_numpy(X.astype(np.float32))\n",
    "        yt = torch.from_numpy(y.astype(np.float32))\n",
    "        self.w  = torch.randn(Xt.shape[1],1,requires_grad=True)\n",
    "        self.b  = torch.zeros(1,requires_grad=True)\n",
    "        Ns = len(X)\n",
    "        loglosslast = 0\n",
    "        print(Xt.dtype, self.w.dtype)\n",
    "        for epoch_id in  range(self.epoch):\n",
    "\n",
    "            z = sigmoid(Xt.mm(self.w) + self.b).reshape(-1)\n",
    "            loglosstensor = -( yt*log(z) + (1-yt)*log(1 - z))\n",
    "            logloss = loglosstensor.mean()\n",
    "            \n",
    "            logloss.backward()\n",
    "            \n",
    "            self.w.data = self.w.data -  self.w.grad.data*self.lr\n",
    "            self.b.data = self.b.data -  self.b.grad.data*self.lr\n",
    "            \n",
    "            loglossFloat = logloss.data.numpy()\n",
    "            \n",
    "            if abs(loglossFloat - loglosslast)/loglossFloat < self.stop_thod:\n",
    "                #break\n",
    "                pass\n",
    "            else:\n",
    "                loglosslast = loglossFloat\n",
    "            \n",
    "            if epoch_id % int(self.epoch/5) ==0 and self.verbose:\n",
    "                print('epoch = {0}, loss = {1} '.format(epoch_id, loglossFloat))\n",
    "                dfout = pd.DataFrame(columns = ['w','dw','w-lr*dw']) \n",
    "                dfout['w-lr*dw'] = self.w.data.numpy().reshape(-1)\n",
    "                dfout.dw = self.w.grad.data.numpy().reshape(-1)\n",
    "                dfout.w = dfout['w-lr*dw'] + self.lr*dfout.dw\n",
    "                #print(dfout)\n",
    "            \n",
    "            self.w.grad.data.zero_(),self.b.grad.data.zero_()\n",
    "            \n",
    "    def predict_proba(self, X):\n",
    "        Xt = torch.from_numpy(X.astype(np.float32))\n",
    "        y_prob = sigmoid(Xt.mm(self.w) + self.b)\n",
    "        y_prob = y_prob.detach().numpy()\n",
    "        return y_prob.reshape(-1)\n",
    "    def predict(self, X):\n",
    "        \n",
    "        y_prob = self.predict_proba(X)\n",
    "        y_pre  = y_prob > 0.5\n",
    "        return y_pre.astype(int)\n",
    "class TorsorFactorMachine():\n",
    "    \"\"\"\n",
    "     FactorMachine implemented by Pytorch\n",
    "    \n",
    "    \"\"\"\n",
    "    def __init__(self, penalty='l2', C=1.0, lr=0.01, batch_size = None, epoch=10000, stop_thod=0.0001, verbose=False):\n",
    "        self.C = C\n",
    "        self.penalty = penalty\n",
    "        self.epoch = epoch\n",
    "        self.stop_thod = stop_thod\n",
    "        self.lr = lr\n",
    "        self.verbose = verbose\n",
    "        self.batch_size = batch_size\n",
    "    def fm_matrix(self, X):\n",
    "        \n",
    "        S1 = X.mm(self.v)\n",
    "        S2 = diag(torch.matmul(S1,S1.T)).reshape(-1,1)\n",
    "        S3 = (X**2).mm(self.v**2)\n",
    "        phi = self.b + X.mm(self.w) + S2 - S3\n",
    "        \n",
    "        return phi\n",
    "    def fm_vector(self, X):\n",
    "        S1 = X.mm(self.v)\n",
    "        S2 = S1*S1\n",
    "        S3 = (X**2).mm(self.v**2)\n",
    "        phi = self.b + X.mm(self.w) + S2 - S3\n",
    "        return phi\n",
    "    def fm(self,X):\n",
    "        return self.fm_matrix(X) \n",
    "    \n",
    "    def fit(self, X, y):\n",
    "        Xdata = torch.from_numpy(X.astype(np.float32))\n",
    "        ydata = torch.from_numpy(y.astype(np.float32))\n",
    "        self.w  = torch.randn(Xdata.shape[1],1,requires_grad=True)\n",
    "        self.v  = torch.randn(Xdata.shape[1],1,requires_grad=True)\n",
    "        self.b  = torch.randn(1,requires_grad=True)\n",
    "\n",
    "        loglosslast = 0\n",
    "        \n",
    "        dataLoader = torch.utils.data.DataLoader(MyDataset(Xdata, ydata), batch_size=self.batch_size, shuffle=True)\n",
    "        \n",
    "        for epoch_id in  range(self.epoch):            \n",
    "            for i, (Xt, yt) in enumerate( dataLoader):\n",
    "                z = self.fm(Xt)\n",
    "                phi = torch.clamp(sigmoid(z),0.001,0.999).reshape(yt.shape)\n",
    "                logloss = -torch.mean(( yt*log(phi) + (1-yt)*log(1 - phi)))\n",
    "                logloss.backward()\n",
    "                #pdb.set_trace()\n",
    "                self.w.data = self.w.data -  self.w.grad.data*self.lr\n",
    "                self.v.data = self.v.data -  self.v.grad.data*self.lr\n",
    "                self.b.data = self.b.data -  self.b.grad.data*self.lr\n",
    "                self.w.grad.data.zero_(),self.b.grad.data.zero_()\n",
    "\n",
    "            loglossFloat = logloss.data.numpy()\n",
    "            if np.isnan(loglossFloat):\n",
    "                print('epoch = ', epoch_id, 'logloss = ', loglossFloat )\n",
    "                print(phi,z)\n",
    "                break\n",
    "            if abs(loglossFloat - loglosslast)/loglossFloat < self.stop_thod:\n",
    "                #break\n",
    "                pass\n",
    "            else:\n",
    "                loglosslast = loglossFloat\n",
    "                \n",
    "            if epoch_id % int(self.epoch/10) ==0 and self.verbose:\n",
    "                    print('epoch = {0}, loss = {1} '.format(epoch_id, loglossFloat))\n",
    "    def predict_proba(self, X):\n",
    "        Xt = torch.from_numpy(X.astype(np.float32))\n",
    "        y_prob = sigmoid( self.fm(Xt) )\n",
    "        y_prob = y_prob.detach().numpy()\n",
    "        return y_prob.reshape(-1)\n",
    "    def predict(self, X):\n",
    "        \n",
    "        y_prob = self.predict_proba(X)\n",
    "        y_pre  = y_prob > 0.5\n",
    "        return y_pre.astype(int)"
   ]
  },
  {
   "cell_type": "code",
   "execution_count": 6,
   "metadata": {
    "code_folding": [],
    "scrolled": false
   },
   "outputs": [
    {
     "name": "stdout",
     "output_type": "stream",
     "text": [
      "epoch = 0, loss = 3.695995330810547 \n",
      "epoch = 500, loss = 0.8141794204711914 \n",
      "epoch = 1000, loss = 0.6137745380401611 \n",
      "epoch = 1500, loss = 0.5503057837486267 \n",
      "epoch = 2000, loss = 0.32228317856788635 \n",
      "epoch = 2500, loss = 0.4934259355068207 \n",
      "epoch = 3000, loss = 0.3408129811286926 \n",
      "epoch = 3500, loss = 0.36015188694000244 \n",
      "epoch = 4000, loss = 0.32976222038269043 \n",
      "epoch = 4500, loss = 0.36015191674232483 \n",
      "Confusion matrix, without normalization\n",
      "Confusion matrix, without normalization\n",
      "[[ 0.05 -0.01  0.01 -0.19 -0.05]]\n"
     ]
    },
    {
     "data": {
      "text/plain": [
       "<Figure size 432x288 with 0 Axes>"
      ]
     },
     "metadata": {},
     "output_type": "display_data"
    },
    {
     "data": {
      "image/png": "[encoded data removed]",
      "text/plain": [
       "<Figure size 432x288 with 2 Axes>"
      ]
     },
     "metadata": {
      "needs_background": "light"
     },
     "output_type": "display_data"
    },
    {
     "data": {
      "text/plain": [
       "<Figure size 432x288 with 0 Axes>"
      ]
     },
     "metadata": {},
     "output_type": "display_data"
    },
    {
     "data": {
      "image/png": "[encoded data removed]",
      "text/plain": [
       "<Figure size 432x288 with 2 Axes>"
      ]
     },
     "metadata": {
      "needs_background": "light"
     },
     "output_type": "display_data"
    }
   ],
   "source": [
    "# Factor Machine Run\n",
    "tfm = TorsorFactorMachine(lr=0.0001,epoch=5000,batch_size = 2500,verbose=True)\n",
    "tfm.fit(xdata,ydata) # Xd,yd,bd, wd, vd = \n",
    "yprob_t = tfm.predict_proba(xdata)\n",
    "ypre_t = tfm.predict(xdata)\n",
    "plot_confusion_matrix(ydata, ypre_t,classes=np.array([0,1]), normalize=False,\n",
    "                      title='Normalized confusion matrix')\n",
    "\n",
    "clf = LogisticRegression()\n",
    "clf.fit(xdata,ydata)\n",
    "yprob_l = clf.predict_proba(xdata)\n",
    "ypre_l = clf.predict(xdata)\n",
    "plot_confusion_matrix(ydata, ypre_l,classes=np.array([0,1]), normalize=False,\n",
    "                      title='Normalized confusion matrix')\n",
    "print(clf.coef_)\n",
    "#print(z.shape, yt.shape,Xt.mm(self.v).shape,self.fm(Xt).shape)"
   ]
  },
  {
   "cell_type": "code",
   "execution_count": null,
   "metadata": {},
   "outputs": [],
   "source": [
    "X = torch.tensor([[1,2,3],[4,5,6]],dtype=torch.float32)\n",
    "y = torch.tensor([4,5],dtype=torch.float32)\n",
    "w  = torch.ones(X.shape[1],1,requires_grad=True)\n",
    "v  = torch.ones(X.shape[1],1,requires_grad=True)\n",
    "b  = torch.ones(1,requires_grad=True)\n",
    "S1 = X.mm(v)\n",
    "S2 = (X**2).mm(v**2)\n",
    "S3 = diag(torch.matmul(S1,S1.T)).reshape(-1,1)\n",
    "z = b + X.mm(w) + S3-S2\n",
    "z,z.reshape(y.shape)"
   ]
  },
  {
   "cell_type": "code",
   "execution_count": null,
   "metadata": {},
   "outputs": [],
   "source": [
    "(X**2).mm(v**2)"
   ]
  },
  {
   "cell_type": "code",
   "execution_count": null,
   "metadata": {
    "code_folding": [
     0,
     16
    ],
    "scrolled": true
   },
   "outputs": [],
   "source": [
    "# debug\n",
    "from torch import log,exp,mean\n",
    "import pandas as pd\n",
    "import numpy as np\n",
    "import torch.utils.data as data\n",
    "xdata,ydata = make_classification(n_samples=100, n_features=5, n_informative=2, n_redundant=2, n_repeated=0, \n",
    "                           n_classes=2, n_clusters_per_class=2, weights=None, flip_y=0.01, class_sep=1.0, \n",
    "                           hypercube=True, shift=0.0, scale=1.0, shuffle=True, random_state=None)\n",
    "coef  = np.array([0.5,0.1, -1.5, 2.1,0.1])\n",
    "ydata = (np.matmul(xdata,coef) > 0.5).astype(np.int)\n",
    "\n",
    "num_epochs = 100\n",
    "num_classes = 2\n",
    "batch_size = 100\n",
    "lr = 0.1\n",
    "\n",
    "class MyDataset(data.Dataset):\n",
    "    def __init__(self, signal, labels):\n",
    "        self.signal = signal.reshape([signal.shape[0],signal.shape[1]])\n",
    "        self.labels = labels.reshape([signal.shape[0]])\n",
    "\n",
    "    def __getitem__(self, index):#返回的是tensor\n",
    "        sig, target = self.signal[index], self.labels[index]\n",
    "        return sig, target\n",
    "\n",
    "    def __len__(self):\n",
    "        return len(self.signal)\n",
    "\n",
    "\n",
    "clf = LogisticRegression()\n",
    "clf.fit(xdata,ydata)\n",
    "\n",
    "\n",
    "dfout = pd.DataFrame(columns = ['w','dw','w-lr*dw','coef_'])\n",
    "X = xdata\n",
    "y = ydata\n",
    "Xall = torch.from_numpy(X.astype(np.float32))\n",
    "yall = torch.from_numpy(y.astype(np.float32))\n",
    "w  = torch.randn(Xall.shape[1],1,requires_grad=True)\n",
    "b  = torch.zeros(1,requires_grad=True)\n",
    "\n",
    "train_loader = torch.utils.data.DataLoader(MyDataset(Xall, yall), batch_size=batch_size, shuffle=True)\n",
    "\n",
    "for epoch in range(num_epochs):\n",
    "    for i, (Xt, yt) in enumerate( train_loader):\n",
    "        yout = sigmoid(Xt.mm(w) + b).reshape(-1)\n",
    "        #yout = 1/(1 + exp(-(Xt.mm(w) + b))).reshape(-1)\n",
    "        loglosstensor = -( yt*log(yout) + (1-yt)*log(1 - yout))\n",
    "        logloss = mean(loglosstensor)\n",
    "        logloss.backward()\n",
    "\n",
    "        w.data = w.data - w.grad.data * lr\n",
    "        b.data = b.data - b.grad.data * lr\n",
    "\n",
    "        w.grad.data.zero_(),b.grad.data.zero_(),\n",
    "    \n",
    "    print(logloss.data)\n",
    "    \n",
    "yprob_t = sigmoid(Xall.mm(w) + b).data.reshape(-1).numpy()\n",
    "ypre_t =  (yprob_t > 0.5 ).astype(np.int)\n",
    "plot_confusion_matrix(ydata, ypre_t,classes=np.array([0,1]), normalize=False,\n",
    "                      title='Normalized confusion matrix')"
   ]
  },
  {
   "cell_type": "code",
   "execution_count": 279,
   "metadata": {},
   "outputs": [
    {
     "data": {
      "text/plain": [
       "(tensor([[138.],\n",
       "         [840.]]), tensor([[138.],\n",
       "         [840.]]))"
      ]
     },
     "execution_count": 279,
     "metadata": {},
     "output_type": "execute_result"
    }
   ],
   "source": [
    "def fm_matrix(X):\n",
    "    S1 = X.mm(v)\n",
    "    S2 = diag(torch.matmul(S1,S1.T)).reshape(-1,1)\n",
    "    S3 = (X**2).mm(v**2)\n",
    "    phi = b + X.mm(w) + S2 - S3\n",
    "    return phi\n",
    "def fm_vector(X):\n",
    "    S1 = X.mm(v)\n",
    "    S2 = S1*S1\n",
    "    S3 = (X**2).mm(v**2)\n",
    "    phi = b + X.mm(w) + S2 - S3\n",
    "    return phi\n",
    "\n",
    "X = torch.tensor([[1.0,2,3],[4,5,6.0]])\n",
    "w = torch.tensor([1.0,2,3]).reshape(3,1)\n",
    "v = torch.tensor([2.0,2,3]).reshape(3,1)\n",
    "b = torch.tensor([0.0])\n",
    "\n",
    "fm_matrix(X),fm_vector(X)\n"
   ]
  },
  {
   "cell_type": "code",
   "execution_count": 25,
   "metadata": {},
   "outputs": [
    {
     "data": {
      "text/plain": [
       "tensor([[0.],\n",
       "        [0.],\n",
       "        [0.],\n",
       "        [0.],\n",
       "        [0.]])"
      ]
     },
     "execution_count": 25,
     "metadata": {},
     "output_type": "execute_result"
    }
   ],
   "source": [
    "logloss"
   ]
  },
  {
   "cell_type": "code",
   "execution_count": null,
   "metadata": {},
   "outputs": [],
   "source": []
  },
  {
   "cell_type": "code",
   "execution_count": null,
   "metadata": {},
   "outputs": [],
   "source": []
  }
 ],
 "metadata": {
  "kernelspec": {
   "display_name": "Python 3",
   "language": "python",
   "name": "python3"
  },
  "language_info": {
   "codemirror_mode": {
    "name": "ipython",
    "version": 3
   },
   "file_extension": ".py",
   "mimetype": "text/x-python",
   "name": "python",
   "nbconvert_exporter": "python",
   "pygments_lexer": "ipython3",
   "version": "3.7.4"
  }
 },
 "nbformat": 4,
 "nbformat_minor": 2
}
