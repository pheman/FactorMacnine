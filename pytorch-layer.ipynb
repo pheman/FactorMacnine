{
 "cells": [
  {
   "cell_type": "code",
   "execution_count": 7,
   "metadata": {},
   "outputs": [],
   "source": [
    "import torch\n",
    "import torch.nn as nn\n",
    "import torch.nn.functional as F\n",
    "import torch.optim as optim\n",
    "from torchvision import datasets, transforms\n",
    "from torch import sigmoid"
   ]
  },
  {
   "cell_type": "code",
   "execution_count": 8,
   "metadata": {
    "code_folding": [
     0
    ]
   },
   "outputs": [],
   "source": [
    "# plot func\n",
    "import numpy as np\n",
    "from scipy import interp\n",
    "import matplotlib.pyplot as plt\n",
    "from sklearn import metrics\n",
    "from sklearn.metrics import confusion_matrix\n",
    "from sklearn.utils.multiclass import unique_labels\n",
    "np.set_printoptions(precision=2)\n",
    "def plot_confusion_matrix(y_true, y_pred, classes,\n",
    "                          normalize=False,\n",
    "                          title=None,\n",
    "                          cmap=plt.cm.Blues):\n",
    "    \"\"\"\n",
    "    This function prints and plots the confusion matrix.\n",
    "    Normalization can be applied by setting `normalize=True`.\n",
    "    \"\"\"\n",
    "    if not title:\n",
    "        if normalize:\n",
    "            title = 'Normalized confusion matrix'\n",
    "        else:\n",
    "            title = 'Confusion matrix, without normalization'\n",
    "\n",
    "    # Compute confusion matrix\n",
    "    cm = confusion_matrix(y_true, y_pred)\n",
    "    # Only use the labels that appear in the data\n",
    "    classes = classes[unique_labels(y_true, y_pred)]\n",
    "    if normalize:\n",
    "        cm = cm.astype('float') / cm.sum(axis=1)[:, np.newaxis]\n",
    "        print(\"Normalized confusion matrix\")\n",
    "    else:\n",
    "        print('Confusion matrix, without normalization')\n",
    "\n",
    "    #print(cm)\n",
    "    plt.figure()\n",
    "    fig, ax = plt.subplots()\n",
    "    im = ax.imshow(cm, interpolation='nearest', cmap=cmap)\n",
    "    ax.figure.colorbar(im, ax=ax)\n",
    "    # We want to show all ticks...\n",
    "    ax.set(xticks=np.arange(cm.shape[1]),\n",
    "           yticks=np.arange(cm.shape[0]),\n",
    "           # ... and label them with the respective list entries\n",
    "           xticklabels=classes, yticklabels=classes,\n",
    "           title=title,\n",
    "           ylabel='True label',\n",
    "           xlabel='Predicted label')\n",
    "\n",
    "    # Rotate the tick labels and set their alignment.\n",
    "    plt.setp(ax.get_xticklabels(), rotation=45, ha=\"right\",\n",
    "             rotation_mode=\"anchor\")\n",
    "\n",
    "    # Loop over data dimensions and create text annotations.\n",
    "    fmt = '.2f' if normalize else 'd'\n",
    "    thresh = cm.max() / 2.\n",
    "    for i in range(cm.shape[0]):\n",
    "        for j in range(cm.shape[1]):\n",
    "            ax.text(j, i, format(cm[i, j], fmt),\n",
    "                    ha=\"center\", va=\"center\",\n",
    "                    color=\"white\" if cm[i, j] > thresh else \"black\")\n",
    "    fig.tight_layout()\n",
    "    return ax\n",
    "def plot_roc(ytrue, yprob):\n",
    "    mean_fpr = np.linspace(0, 1, 100)\n",
    "\n",
    "    i = 0\n",
    "\n",
    "    # Compute ROC curve and area the curve\n",
    "    fpr, tpr, thresholds = metrics.roc_curve(ytrue, yprob[:, 1])\n",
    "\n",
    "\n",
    "    roc_auc = metrics.auc(fpr, tpr)\n",
    "    plt.figure()\n",
    "    plt.plot(fpr, tpr, lw=2, alpha=0.3,color='r',\n",
    "             label='ROC fold %d (AUC = %0.2f)' % (i, roc_auc))\n",
    "\n",
    "    plt.plot([0, 1], [0, 1], linestyle='--', lw=2, color='b',\n",
    "             label='Chance', alpha=.8)\n",
    "\n",
    "    \n",
    "\n",
    "    plt.xlim([-0.05, 1.05])\n",
    "    plt.ylim([-0.05, 1.05])\n",
    "    plt.xlabel('False Positive Rate')\n",
    "    plt.ylabel('True Positive Rate')\n",
    "    plt.title('Receiver operating characteristic example')\n",
    "    plt.legend(loc=\"lower right\")\n",
    "    plt.show()\n"
   ]
  },
  {
   "cell_type": "code",
   "execution_count": 9,
   "metadata": {},
   "outputs": [
    {
     "name": "stdout",
     "output_type": "stream",
     "text": [
      "5000\n"
     ]
    }
   ],
   "source": [
    "# Factor Machine Data\n",
    "import numpy as np\n",
    "import matplotlib.pyplot as plt\n",
    "from sklearn.datasets import load_iris,fetch_kddcup99,make_classification\n",
    "from sklearn.model_selection import train_test_split,KFold\n",
    "from sklearn.linear_model import LogisticRegression,stochastic_gradient\n",
    "from sklearn.metrics import classification_report\n",
    "\n",
    "xdata,ydata = make_classification(n_samples=10000, n_features=5, n_classes=2, random_state=None)\n",
    "\n",
    "coef  = np.array([0.0,0.0,0.0, 0.0,0.0])\n",
    "ydata = np.matmul(xdata,coef) + xdata[:,1]*xdata[:,2] + xdata[:,2] *xdata[:,3] + xdata[:,1] *xdata[:,3]\n",
    "ydata = (ydata > np.median(ydata)).astype(np.int)\n",
    "print(ydata.sum())\n",
    "\n",
    "Xt = torch.from_numpy(xdata.astype(np.float32))\n",
    "yt = torch.from_numpy(ydata.astype(np.float32))"
   ]
  },
  {
   "cell_type": "code",
   "execution_count": 24,
   "metadata": {},
   "outputs": [],
   "source": [
    "class FactorizationMachine(nn.Module):\n",
    "    def __init__(self,  withCuda=True):\n",
    "        super(FactorizationMachine, self).__init__()\n",
    "        \n",
    "        self.linear = nn.Linear(5,2)\n",
    "        self.quad   = nn.Bilinear(5,5,2)\n",
    "        \n",
    "        \n",
    "        \n",
    "    def forward(self, X):\n",
    "        \n",
    "        # The linear part\n",
    "        phi_pl = self.linear(X)\n",
    "        \n",
    "        # The Quadratic-FM part using the O(kn) formulation from Steffen Rendle\n",
    "        phi_pq = self.quad(X,X)\n",
    "        \n",
    "        phi = phi_pl + phi_pq\n",
    "\n",
    "        return phi\n",
    "        "
   ]
  },
  {
   "cell_type": "code",
   "execution_count": 25,
   "metadata": {
    "scrolled": true
   },
   "outputs": [
    {
     "name": "stdout",
     "output_type": "stream",
     "text": [
      "Epoch [1/2000], Loss: 1.8746427297592163\n",
      "Epoch [101/2000], Loss: 0.19113944470882416\n",
      "Epoch [201/2000], Loss: 0.14924880862236023\n",
      "Epoch [301/2000], Loss: 0.12859001755714417\n",
      "Epoch [401/2000], Loss: 0.11551379412412643\n",
      "Epoch [501/2000], Loss: 0.1062396839261055\n",
      "Epoch [601/2000], Loss: 0.09920500963926315\n",
      "Epoch [701/2000], Loss: 0.0936233401298523\n",
      "Epoch [801/2000], Loss: 0.0890488252043724\n",
      "Epoch [901/2000], Loss: 0.08520680665969849\n",
      "Epoch [1001/2000], Loss: 0.0819176584482193\n",
      "Epoch [1101/2000], Loss: 0.07905812561511993\n",
      "Epoch [1201/2000], Loss: 0.07654083520174026\n",
      "Epoch [1301/2000], Loss: 0.07430114597082138\n",
      "Epoch [1401/2000], Loss: 0.07229048758745193\n",
      "Epoch [1501/2000], Loss: 0.07047158479690552\n",
      "Epoch [1601/2000], Loss: 0.06881499290466309\n",
      "Epoch [1701/2000], Loss: 0.06729751825332642\n",
      "Epoch [1801/2000], Loss: 0.06590036302804947\n",
      "Epoch [1901/2000], Loss: 0.064608134329319\n"
     ]
    }
   ],
   "source": [
    "FM   = FactorizationMachine()\n",
    "num_epochs = 2000\n",
    "ytar = yt.long()\n",
    "criterion = nn.CrossEntropyLoss() \n",
    "optimizer = torch.optim.SGD(FM.parameters(), lr=0.05)  \n",
    "for epoch in range(num_epochs):\n",
    "    yout = FM(Xt)\n",
    "    loss = criterion(yout, ytar)\n",
    "    optimizer.zero_grad()\n",
    "    loss.backward()\n",
    "    optimizer.step()\n",
    "    \n",
    "    if epoch % (num_epochs/20) == 0:\n",
    "        print ('Epoch [{0}/{1}], Loss: {2}' \n",
    "                   .format(epoch+1, num_epochs, loss.item()))\n",
    "    "
   ]
  },
  {
   "cell_type": "code",
   "execution_count": 26,
   "metadata": {},
   "outputs": [
    {
     "name": "stdout",
     "output_type": "stream",
     "text": [
      "Confusion matrix, without normalization\n"
     ]
    },
    {
     "data": {
      "text/plain": [
       "<matplotlib.axes._subplots.AxesSubplot at 0x7f6b45d598d0>"
      ]
     },
     "execution_count": 26,
     "metadata": {},
     "output_type": "execute_result"
    },
    {
     "data": {
      "text/plain": [
       "<Figure size 432x288 with 0 Axes>"
      ]
     },
     "metadata": {},
     "output_type": "display_data"
    },
    {
     "data": {
      "image/png": "[encoded data removed]",
      "text/plain": [
       "<Figure size 432x288 with 2 Axes>"
      ]
     },
     "metadata": {
      "needs_background": "light"
     },
     "output_type": "display_data"
    }
   ],
   "source": [
    "# Test the model\n",
    "# In test phase, we don't need to compute gradients (for memory efficiency)\n",
    "with torch.no_grad():\n",
    "    ypre = FM(Xt)\n",
    "    _, predicted = torch.max(ypre.data, 1)\n",
    "plot_confusion_matrix(ydata, predicted,classes=np.array([0,1]), normalize=False,\n",
    "                      title='Normalized confusion matrix')"
   ]
  },
  {
   "cell_type": "code",
   "execution_count": 27,
   "metadata": {},
   "outputs": [
    {
     "data": {
      "text/plain": [
       "torch.return_types.max(\n",
       "values=tensor([5.1897, 1.1835, 1.3435,  ..., 3.9022, 9.9992, 1.1903]),\n",
       "indices=tensor([1, 0, 1,  ..., 0, 1, 0]))"
      ]
     },
     "execution_count": 27,
     "metadata": {},
     "output_type": "execute_result"
    }
   ],
   "source": [
    "torch.max(ypre.data, 1)"
   ]
  }
 ],
 "metadata": {
  "kernelspec": {
   "display_name": "Python 3",
   "language": "python",
   "name": "python3"
  },
  "language_info": {
   "codemirror_mode": {
    "name": "ipython",
    "version": 3
   },
   "file_extension": ".py",
   "mimetype": "text/x-python",
   "name": "python",
   "nbconvert_exporter": "python",
   "pygments_lexer": "ipython3",
   "version": "3.7.4"
  }
 },
 "nbformat": 4,
 "nbformat_minor": 2
}
